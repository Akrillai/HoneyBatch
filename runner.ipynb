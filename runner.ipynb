{
 "cells": [
  {
   "cell_type": "code",
   "execution_count": 3,
   "id": "43782abd",
   "metadata": {},
   "outputs": [
    {
     "name": "stderr",
     "output_type": "stream",
     "text": [
      " * Running on http://localhost:5000/ (Press CTRL+C to quit)\n",
      "127.0.0.1 - - [26/Mar/2023 22:48:11] \"GET / HTTP/1.1\" 200 -\n",
      "127.0.0.1 - - [26/Mar/2023 22:48:16] \"POST /create_step HTTP/1.1\" 302 -\n",
      "127.0.0.1 - - [26/Mar/2023 22:48:16] \"GET / HTTP/1.1\" 200 -\n",
      "127.0.0.1 - - [26/Mar/2023 22:48:18] \"POST /create_step HTTP/1.1\" 302 -\n",
      "127.0.0.1 - - [26/Mar/2023 22:48:18] \"GET / HTTP/1.1\" 200 -\n",
      "127.0.0.1 - - [26/Mar/2023 22:48:22] \"POST /execute_workflow HTTP/1.1\" 302 -\n",
      "127.0.0.1 - - [26/Mar/2023 22:48:22] \"GET /?results=success&results=success&outputs=Directory%3A+C%3A%5CUsers%5Cmarkl%5COneDrive%5CDesktop%5CHoneyBatch%5CHoneyBatch%0A%0A%0AMode+++++++++++++++++LastWriteTime+++++++++Length+Name+++++++++++++++++++++++++++++++++++++++++++++++++++++++++++++++++%0A----+++++++++++++++++-------------+++++++++------+----+++++++++++++++++++++++++++++++++++++++++++++++++++++++++++++++++%0Ada---l++++++++26%2F03%2F2023+++++21%3A46++++++++++++++++.ipynb_checkpoints+++++++++++++++++++++++++++++++++++++++++++++++++++%0Ada---l++++++++26%2F03%2F2023+++++22%3A47++++++++++++++++templates++++++++++++++++++++++++++++++++++++++++++++++++++++++++++++%0A-a---l++++++++26%2F03%2F2023+++++22%3A36+++++++++++++12+README.md++++++++++++++++++++++++++++++++++++++++++++++++++++++++++++%0A-a---l++++++++26%2F03%2F2023+++++22%3A47+++++++++++5034+runner.ipynb&outputs=Directory%3A+C%3A%5CUsers%5Cmarkl%5COneDrive%5CDesktop%5CHoneyBatch%5CHoneyBatch%0A%0A%0AMode+++++++++++++++++LastWriteTime+++++++++Length+Name+++++++++++++++++++++++++++++++++++++++++++++++++++++++++++++++++%0A----+++++++++++++++++-------------+++++++++------+----+++++++++++++++++++++++++++++++++++++++++++++++++++++++++++++++++%0Ada---l++++++++26%2F03%2F2023+++++21%3A46++++++++++++++++.ipynb_checkpoints+++++++++++++++++++++++++++++++++++++++++++++++++++%0Ada---l++++++++26%2F03%2F2023+++++22%3A47++++++++++++++++templates++++++++++++++++++++++++++++++++++++++++++++++++++++++++++++%0A-a---l++++++++26%2F03%2F2023+++++22%3A36+++++++++++++12+README.md++++++++++++++++++++++++++++++++++++++++++++++++++++++++++++%0A-a---l++++++++26%2F03%2F2023+++++22%3A47+++++++++++5034+runner.ipynb HTTP/1.1\" 200 -\n"
     ]
    }
   ],
   "source": [
    "from flask import Flask, render_template, request, redirect, url_for\n",
    "import os\n",
    "import subprocess\n",
    "\n",
    "app = Flask(__name__)\n",
    "app.jinja_env.globals.update(zip=zip)\n",
    "\n",
    "workflow = []\n",
    "\n",
    "@app.route('/', methods=['GET', 'POST'])\n",
    "def index():\n",
    "    results = request.args.getlist('results') or [None] * len(workflow)\n",
    "    outputs = request.args.getlist('outputs') or [None] * len(workflow)\n",
    "    return render_template('index.html', workflow=workflow, results=results, outputs=outputs)\n",
    "\n",
    "@app.route('/execute_workflow', methods=['POST'])\n",
    "def execute_workflow():\n",
    "    global workflow\n",
    "    results = []\n",
    "    outputs = []\n",
    "    for command in workflow:\n",
    "        try:\n",
    "            result = subprocess.run(['powershell.exe', '-Command', command], check=True, stdout=subprocess.PIPE, text=True)\n",
    "            results.append('success')\n",
    "            outputs.append(result.stdout.strip())\n",
    "        except subprocess.CalledProcessError as e:\n",
    "            results.append('error')\n",
    "            outputs.append(e.stdout.strip() if e.stdout else 'Error occurred during execution')\n",
    "    return redirect(url_for('index', results=results, outputs=outputs))\n",
    "\n",
    "@app.route('/delete_workflow', methods=['POST'])\n",
    "def delete_workflow():\n",
    "    global workflow\n",
    "    workflow = []\n",
    "    return redirect(url_for('index'))\n",
    "\n",
    "@app.route('/create_step', methods=['POST'])\n",
    "def create_step():\n",
    "    command = request.form.get('command')\n",
    "    if command:\n",
    "        workflow.append(command)\n",
    "    return redirect(url_for('index'))\n",
    "\n",
    "if __name__ == '__main__':\n",
    "    from werkzeug.serving import run_simple\n",
    "    run_simple('localhost', 5000, app)"
   ]
  },
  {
   "cell_type": "code",
   "execution_count": null,
   "id": "fec98b16",
   "metadata": {},
   "outputs": [],
   "source": []
  }
 ],
 "metadata": {
  "kernelspec": {
   "display_name": "Python 3 (ipykernel)",
   "language": "python",
   "name": "python3"
  },
  "language_info": {
   "codemirror_mode": {
    "name": "ipython",
    "version": 3
   },
   "file_extension": ".py",
   "mimetype": "text/x-python",
   "name": "python",
   "nbconvert_exporter": "python",
   "pygments_lexer": "ipython3",
   "version": "3.9.13"
  }
 },
 "nbformat": 4,
 "nbformat_minor": 5
}
